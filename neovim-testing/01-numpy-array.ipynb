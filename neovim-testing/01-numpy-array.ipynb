{
 "cells": [
  {
   "cell_type": "markdown",
   "metadata": {},
   "source": [
    "# 1) Introduction to NumPy\n",
    "\n",
    "- for numerical calculations\n",
    "- **numpy arrays** - specialized data structures 50x faster than python lists"
   ]
  },
  {
   "cell_type": "markdown",
   "metadata": {},
   "source": [
    "# 2) Array creation \n",
    "\n",
    "- **np.array()**\n",
    "- **np.zeros()** - pole vyplnene len nulami 0\n",
    "- **np.ones()** - pole vyplnene len jednotkami 1\n",
    "- **np.arange()** - vrati pole s hodnotami v definovanom intervale\n",
    "- **np.random.rand()** - pole s nahodnymi hodnotami\n",
    "- **np.empty()** - prazdne pole"
   ]
  },
  {
   "cell_type": "markdown",
   "metadata": {},
   "source": [
    "## 2.1) Create array using Python list"
   ]
  },
  {
   "cell_type": "code",
   "execution_count": null,
   "metadata": {},
   "outputs": [
    {
     "name": "stdout",
     "output_type": "stream",
     "text": [
      "[2 4 6 8]\n"
     ]
    }
   ],
   "source": [
    "import numpy as np\n",
    "\n",
    "# vytvorim list\n",
    "my_list = [2, 4, 6, 8]\n",
    "\n",
    "# vytvorim numpy array z listu\n",
    "# my_list je argument pre numpy array\n",
    "my_array = np.array(my_list)\n",
    "\n",
    "# zobrazenie numpy array\n",
    "print(my_array)"
   ]
  },
  {
   "cell_type": "markdown",
   "metadata": {},
   "source": [
    "## 2.2) Create array using np.zeros(), np.ones()"
   ]
  },
  {
   "cell_type": "code",
   "execution_count": 5,
   "metadata": {},
   "outputs": [
    {
     "name": "stdout",
     "output_type": "stream",
     "text": [
      "Array zeros [0. 0. 0. 0.]\n",
      "Array ones [1. 1. 1. 1.]\n"
     ]
    }
   ],
   "source": [
    "import numpy as np\n",
    "\n",
    "# vytvorim pole so 4 prvkami vyplnene len 0\n",
    "my_array_zeros = np.zeros(4)\n",
    "\n",
    "# vytvorim pole so 4 prvkami vyplnene len 0\n",
    "my_array_ones = np.ones(4)\n",
    "\n",
    "# zobrazenie\n",
    "print(\"Array zeros\", my_array_zeros)\n",
    "print(\"Array ones\", my_array_ones)"
   ]
  },
  {
   "cell_type": "markdown",
   "metadata": {},
   "source": [
    "## 2.3) Create array with np.arange()"
   ]
  },
  {
   "cell_type": "code",
   "execution_count": null,
   "metadata": {},
   "outputs": [
    {
     "name": "stdout",
     "output_type": "stream",
     "text": [
      "[0 1 2 3 4]\n",
      "[1 3 5 7]\n"
     ]
    }
   ],
   "source": [
    "import numpy as np\n",
    "\n",
    "# pole s hodnotami od 0 do 4\n",
    "arr1 = np.arange(5)\n",
    "\n",
    "# pole s hodnotami od 1 do 8 a krokom 2\n",
    "arr2 = np.arange(1, 9, 2)\n",
    "\n",
    "# zobrazenie\n",
    "print(arr1)\n",
    "print(arr2)"
   ]
  },
  {
   "cell_type": "markdown",
   "metadata": {},
   "source": [
    "## 2.4) Create array with np.random.rand()"
   ]
  },
  {
   "cell_type": "code",
   "execution_count": 7,
   "metadata": {},
   "outputs": [
    {
     "name": "stdout",
     "output_type": "stream",
     "text": [
      "[0.51746996 0.08061796 0.57182777 0.72292152 0.19594484]\n"
     ]
    }
   ],
   "source": [
    "import numpy as np\n",
    "\n",
    "# pole s 5 nahodnymi hodnotami\n",
    "arr = np.random.rand(5)\n",
    "\n",
    "# zobrazenie\n",
    "print(arr)"
   ]
  },
  {
   "cell_type": "markdown",
   "metadata": {},
   "source": [
    "## 2.5) Create empty array np.empty()\n",
    "\n",
    "- aj napriek tomu, ze vytvarm prazdne pole, numpy, sa ho snazi vyplnit hodnotami, tie vsak nemaju ziaden vyznam. "
   ]
  },
  {
   "cell_type": "code",
   "execution_count": 9,
   "metadata": {},
   "outputs": [
    {
     "name": "stdout",
     "output_type": "stream",
     "text": [
      "[1. 1. 1. 1.]\n"
     ]
    }
   ],
   "source": [
    "import numpy as np\n",
    "\n",
    "# prazdne pole o dlzke 4 prvkov\n",
    "arr = np.empty(4)\n",
    "\n",
    "# zobrazenie\n",
    "print(arr)"
   ]
  }
 ],
 "metadata": {
  "kernelspec": {
   "display_name": ".venv",
   "language": "python",
   "name": "python3"
  },
  "language_info": {
   "codemirror_mode": {
    "name": "ipython",
    "version": 3
   },
   "file_extension": ".py",
   "mimetype": "text/x-python",
   "name": "python",
   "nbconvert_exporter": "python",
   "pygments_lexer": "ipython3",
   "version": "3.13.0"
  }
 },
 "nbformat": 4,
 "nbformat_minor": 2
}
